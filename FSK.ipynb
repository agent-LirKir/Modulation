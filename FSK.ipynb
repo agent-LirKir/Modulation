{
 "cells": [
  {
   "cell_type": "code",
   "execution_count": 18,
   "metadata": {},
   "outputs": [],
   "source": [
    "from random import choice\n",
    "import matplotlib.pyplot as plt\n",
    "from math import(atan2,erfc,erf,log10)\n",
    "from numpy import (sin, cos, array, pi, sqrt,hsplit, argmin,arctan,arange,e)\n",
    "from numpy.random import normal\n",
    "import matplotlib"
   ]
  },
  {
   "cell_type": "code",
   "execution_count": 19,
   "metadata": {},
   "outputs": [],
   "source": [
    "f = 1e9                 # sampling frequency ( 10 counts on sin)\n",
    "F = 1e7                 # sin frequency ( 10 sin on bit)   \n",
    "T = 1e-6                # time of bit\n",
    "sigma = 10\n",
    "n = 1000               # count of bits       \n",
    "\n",
    "M1 = 10\n",
    "M2 = 11\n",
    "\n",
    "bits = [choice([1,0]) for i in range(n)]"
   ]
  },
  {
   "cell_type": "code",
   "execution_count": 20,
   "metadata": {
    "scrolled": true
   },
   "outputs": [
    {
     "name": "stdout",
     "output_type": "stream",
     "text": [
      "Количество отсчетов на чип: 100\n",
      "Количество чипов на бит:  10\n",
      "Количество отсчетов на бит:  1000\n",
      "Общее количество чипов:  10000\n",
      "Общее количество отсчетов на все сообщение:  1000000\n"
     ]
    }
   ],
   "source": [
    "quantity_of_counts_on_chip =  round((1/F)/(1/f))\n",
    "quantity_of_chips_on_bit = int(T/(1/F))\n",
    "quantity_of_counts_bit = quantity_of_chips_on_bit*quantity_of_counts_on_chip\n",
    "N = int(quantity_of_chips_on_bit*n)     \n",
    "quantity_of_counts_all = int(N*quantity_of_counts_on_chip)\n",
    "\n",
    "counts_on_chip = [t*(1/f) for t in range(0,quantity_of_counts_on_chip)]         \n",
    "counts_time = [t*(1/f) for t in range(0,quantity_of_counts_all)] \n",
    "counts_on_bit = [t*(1/f) for t in range(0,quantity_of_counts_bit)]\n",
    "\n",
    "\n",
    "print('Количество отсчетов на чип:',quantity_of_counts_on_chip)\n",
    "print('Количество чипов на бит: ',quantity_of_chips_on_bit )\n",
    "print('Количество отсчетов на бит: ',quantity_of_chips_on_bit*quantity_of_counts_on_chip)\n",
    "print('Общее количество чипов: ', N )\n",
    "print('Общее количество отсчетов на все сообщение: ',quantity_of_counts_all )\n",
    "\n",
    "#FSK.Опорные символы \n",
    "COS1 = [cos(M1*2*pi*F*t) for t in counts_on_bit] \n",
    "COS2 = [cos(M2*2*pi*F*t) for t in counts_on_bit]\n",
    "COS1=array(COS1).ravel()\n",
    "COS2=array(COS2).ravel()"
   ]
  },
  {
   "cell_type": "code",
   "execution_count": 21,
   "metadata": {},
   "outputs": [],
   "source": [
    "def drawGrphs(bits,new_bits):\n",
    "    \n",
    "    message = []\n",
    "    for i in bits:\n",
    "        if i==1:\n",
    "            message+=[COS1]\n",
    "        else:\n",
    "            message+=[COS2]\n",
    "    message=array(message).ravel()\n",
    "    noise = normal(0,sigma,quantity_of_counts_all)\n",
    "    message_noise = array(message + noise)\n",
    "    \n",
    "    matplotlib.rcParams['figure.figsize'] = 15, 10\n",
    "    aa=plt.subplot(2,1,1) \n",
    "    plt.plot(counts_time,message,'green')\n",
    "    bb=plt.subplot(2,1,2) \n",
    "    plt.plot(counts_time,message_noise,'red')\n",
    "    #cc=plt.plot(counts_on_bit,COS1,'red')\n",
    "    #plt.axis([9.9*1e-7 , 10.1*1e-7 ,-1, 1])\n",
    "    #dd=plt.plot(counts_on_bit,COS2,'blue')\n"
   ]
  },
  {
   "cell_type": "code",
   "execution_count": 22,
   "metadata": {},
   "outputs": [],
   "source": [
    "def modulatorFSK(sigma,bits):\n",
    "    message = []\n",
    "    for i in bits:\n",
    "        if i==1:\n",
    "            message+=[COS1]\n",
    "        else:\n",
    "            message+=[COS2]\n",
    "\n",
    "    message=array(message).ravel()\n",
    "    noise = normal(0,sigma,quantity_of_counts_all)\n",
    "    message_noise = array(message + noise)\n",
    "    return  message_noise\n"
   ]
  },
  {
   "cell_type": "code",
   "execution_count": 23,
   "metadata": {},
   "outputs": [],
   "source": [
    "def deModulatorFSK(n,message_noise):\n",
    "    arrived_bits = hsplit(message_noise,n) \n",
    "    correlation1 = 0\n",
    "    correlation2 = 0\n",
    "    new_bits = []\n",
    "\n",
    "    for i in range(n): \n",
    "        correlation1 = (COS1*arrived_bits[i]).sum()\n",
    "        correlation2 = (COS2*arrived_bits[i]).sum()\n",
    "        #print(correlation)\n",
    "        if correlation1 > correlation2:                                                 \n",
    "            new_bits += [1]\n",
    "        else:\n",
    "            new_bits += [0]\n",
    "            \n",
    "    correlation1 = 0\n",
    "    correlation2 = 0\n",
    "    \n",
    "    new_bits = array(new_bits)  \n",
    "    return new_bits"
   ]
  },
  {
   "cell_type": "code",
   "execution_count": 24,
   "metadata": {},
   "outputs": [],
   "source": [
    "message = modulatorFSK(sigma,bits)\n",
    "new_bits = deModulatorFSK(n,message)\n",
    "bits = array(bits).ravel()"
   ]
  },
  {
   "cell_type": "code",
   "execution_count": 25,
   "metadata": {},
   "outputs": [],
   "source": [
    "#drawGrphs(bits,new_bits)"
   ]
  },
  {
   "cell_type": "code",
   "execution_count": 26,
   "metadata": {},
   "outputs": [
    {
     "name": "stdout",
     "output_type": "stream",
     "text": [
      "Сигнал-шум: 3.979400086720376\n",
      "E: 5e-07\n",
      "N0: 2e-07\n",
      "Теоретическая вероятность ошибки 5.7 %\n",
      "Практическая вероятность ошибки: 6.800000000000001 %\n"
     ]
    }
   ],
   "source": [
    "# Теоретическая и практическая вероятность ошибки\n",
    "E = T/2\n",
    "No = 2*sigma**2 / f\n",
    "SN = E/No\n",
    "ErrTheor = erfc(sqrt(SN/2))/2                      \n",
    "\n",
    "PError = 0\n",
    "for i in range(n):\n",
    "    if bits[i] != new_bits[i]:\n",
    "        PError += 1\n",
    "PError /= n\n",
    "\n",
    "print('Сигнал-шум:',10*log10(SN))\n",
    "print('E:',E)\n",
    "print('N0:',No)\n",
    "print('Теоретическая вероятность ошибки',round(100*ErrTheor,1),'%')\n",
    "print('Практическая вероятность ошибки:',PError*100,'%')"
   ]
  },
  {
   "cell_type": "code",
   "execution_count": 27,
   "metadata": {},
   "outputs": [],
   "source": [
    "## Графическое представление"
   ]
  },
  {
   "cell_type": "code",
   "execution_count": 28,
   "metadata": {},
   "outputs": [],
   "source": [
    "E = T/2              \n",
    "arrSN = arange(-5,15,1)"
   ]
  },
  {
   "cell_type": "code",
   "execution_count": 29,
   "metadata": {},
   "outputs": [],
   "source": [
    "#С помощью дополнительной функции ошибок erfc = 1 - erf нахождение теоретических значений Pошибки\n",
    "arrErrThr = [erfc(sqrt(10**(SN/10))/2)/2 for SN in arrSN]  #  /2 т.к у нас SN = 2E/N ИЛИ по формуле ссылки,которую скинул Дима"
   ]
  },
  {
   "cell_type": "code",
   "execution_count": 30,
   "metadata": {},
   "outputs": [
    {
     "name": "stdout",
     "output_type": "stream",
     "text": [
      "39.76353643835253\n",
      "35.43928915419707\n",
      "31.58529970547121\n",
      "28.150427993736734\n",
      "25.089095358284318\n",
      "22.360679774997898\n",
      "19.928976826775145\n",
      "17.761719292909024\n",
      "15.830148982673414\n",
      "14.108635131604638\n",
      "12.574334296829354\n",
      "11.206887238456494\n",
      "9.98814876483345\n",
      "8.901946956877223\n",
      "7.933868576533667\n",
      "7.0710678118654755\n",
      "6.302095820932435\n",
      "5.616748812614791\n",
      "5.005932648504533\n",
      "4.461542169214011\n"
     ]
    }
   ],
   "source": [
    "#Расчет средней практической ошибки\n",
    "quantity_for_medium = 100\n",
    "arrErrPrt = []\n",
    "\n",
    "for SN in arrSN:\n",
    "    Pm = 0\n",
    "    sig=sqrt((T*f)/(2*10**(SN/10)))   #!!!!\n",
    "    print(sig)\n",
    "    for i in range(quantity_for_medium):\n",
    "        bits = [choice([1,0]) for i in range(n)]\n",
    "        mes = modulatorFSK(sig ,bits)\n",
    "        new_bits = deModulatorFSK(n ,mes)\n",
    "        np_bits =  array(bits).ravel()\n",
    "        \n",
    "        for i in range(n):\n",
    "            if np_bits[i] != new_bits[i]:\n",
    "                Pm += 1\n",
    "    \n",
    "    Pm /= (quantity_for_medium*n)\n",
    "    arrErrPrt += [Pm]"
   ]
  },
  {
   "cell_type": "code",
   "execution_count": 31,
   "metadata": {},
   "outputs": [
    {
     "data": {
      "image/png": "[encoded data removed]",
      "text/plain": [
       "<Figure size 360x2160 with 1 Axes>"
      ]
     },
     "metadata": {
      "needs_background": "light"
     },
     "output_type": "display_data"
    }
   ],
   "source": [
    "matplotlib.rcParams['figure.figsize'] = 5, 30\n",
    "gr = plt.subplot(4,1,1)   \n",
    "gr.set_xlabel('Отношение сигнал/шум')\n",
    "gr.set_ylabel('Вероятность ошибки')\n",
    "#Практика\n",
    "plt.plot(arrSN,arrErrPrt,'red')\n",
    "#Теория\n",
    "plt.scatter(arrSN, arrErrThr, marker='o', c='r', edgecolor='b')\n",
    "#gr.set_xscale('log')\n",
    "gr.set_yscale('log')"
   ]
  },
  {
   "cell_type": "code",
   "execution_count": null,
   "metadata": {},
   "outputs": [],
   "source": []
  }
 ],
 "metadata": {
  "kernelspec": {
   "display_name": "Python 3",
   "language": "python",
   "name": "python3"
  },
  "language_info": {
   "codemirror_mode": {
    "name": "ipython",
    "version": 3
   },
   "file_extension": ".py",
   "mimetype": "text/x-python",
   "name": "python",
   "nbconvert_exporter": "python",
   "pygments_lexer": "ipython3",
   "version": "3.8.5"
  }
 },
 "nbformat": 4,
 "nbformat_minor": 2
}
