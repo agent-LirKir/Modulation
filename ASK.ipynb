{
 "cells": [
  {
   "cell_type": "code",
   "execution_count": 1,
   "metadata": {},
   "outputs": [],
   "source": [
    "from random import choice\n",
    "import matplotlib.pyplot as plt\n",
    "from math import(atan2,erfc,log10)\n",
    "from numpy import (sin, cos, array, pi, sqrt,hsplit, argmin,arctan,arange,e, arange)\n",
    "from numpy.random import normal\n",
    "import matplotlib\n",
    "from pylab import rcParams"
   ]
  },
  {
   "cell_type": "code",
   "execution_count": 2,
   "metadata": {},
   "outputs": [],
   "source": [
    "#МОДУЛЯТОР\n",
    "#ВХОДНЫЕ ДАННЫЕ#\n",
    "f = 1e9                                      \n",
    "F = 1e7                                     \n",
    "n = 1000                                  \n",
    "T = 1e-6                                      \n",
    "sigma = 8\n",
    "bits = [choice([0,1]) for i in range(n)] "
   ]
  },
  {
   "cell_type": "code",
   "execution_count": 3,
   "metadata": {},
   "outputs": [
    {
     "name": "stdout",
     "output_type": "stream",
     "text": [
      "Количество отсчетов на чип: 100\n",
      "Количество чипов на бит:  10\n",
      "Количество отсчетов на бит:  1000\n",
      "Общее количество чипов:  1000\n",
      "Общее количество отсчетов на все сообщение:  100000\n"
     ]
    }
   ],
   "source": [
    "quantity_of_counts_on_chip =  round((1/F)/(1/f))\n",
    "quantity_of_chips_on_bit = int(T/(1/F))\n",
    "N = quantity_of_chips_on_bit*n\n",
    "quantity_of_counts_all = N*quantity_of_counts_on_chip\n",
    "\n",
    "counts_on_chip = [t*(1/f) for t in range(0,quantity_of_counts_on_chip)]         \n",
    "counts_time = [t*(1/f) for t in range(0,quantity_of_counts_all)]  \n",
    "\n",
    "print('Количество отсчетов на чип:',quantity_of_counts_on_chip)\n",
    "print('Количество чипов на бит: ',quantity_of_chips_on_bit )\n",
    "print('Количество отсчетов на бит: ',quantity_of_chips_on_bit*quantity_of_counts_on_chip )\n",
    "print('Общее количество чипов: ', N )\n",
    "print('Общее количество отсчетов на все сообщение: ',quantity_of_counts_all )\n",
    "\n",
    "#ASK.Опорные сигналы\n",
    "COS = [ cos(2*pi*F* t) for t in counts_on_chip] \n",
    "NULL = [0 for t in counts_on_chip]\n",
    "bit_COS = array([COS for j in range(quantity_of_chips_on_bit)]).ravel() "
   ]
  },
  {
   "cell_type": "code",
   "execution_count": 4,
   "metadata": {},
   "outputs": [],
   "source": [
    "def drawGrphs(sigma,bits):\n",
    "    message = []\n",
    "\n",
    "    for i in bits:\n",
    "        if i == 1:\n",
    "            message += [COS for i in range(quantity_of_chips_on_bit)]\n",
    "        else:\n",
    "            message += [NULL for i in range(quantity_of_chips_on_bit)]\n",
    "            \n",
    "    message = array(message).ravel()\n",
    "    noise = normal(0,sigma,quantity_of_counts_all)\n",
    "    message_noise = array(message + noise)\n",
    "            \n",
    "    message = array(message).ravel()\n",
    "    \n",
    "    rcParams['figure.figsize'] = 15, 5\n",
    "    plt.subplot(2,1,1)\n",
    "    plt.plot(counts_time,message)\n",
    "    plt.subplot(2,1,2)\n",
    "    plt.plot(counts_time,message_noise)"
   ]
  },
  {
   "cell_type": "code",
   "execution_count": 5,
   "metadata": {},
   "outputs": [],
   "source": [
    "def modulatorASK(sigma,bits):\n",
    "    message = []\n",
    "\n",
    "    for i in bits:\n",
    "        if i == 1:\n",
    "            message += [COS for i in range(quantity_of_chips_on_bit)]\n",
    "        else:\n",
    "            message += [NULL for i in range(quantity_of_chips_on_bit)]\n",
    "            \n",
    "    message = array(message).ravel()\n",
    "    noise = normal(0,sigma,quantity_of_counts_all)\n",
    "    message_noise = array(message + noise)\n",
    "            \n",
    "    message_noise = array(message_noise).ravel()\n",
    "    return message_noise"
   ]
  },
  {
   "cell_type": "code",
   "execution_count": 6,
   "metadata": {},
   "outputs": [],
   "source": [
    "def deModulatorASK(n,message_noise): \n",
    "    arrived_bits = hsplit(message_noise,n) \n",
    "    correlation = 0\n",
    "    new_bits = []\n",
    "    for i in range(n): \n",
    "        correlation = (bit_COS*arrived_bits[i]).sum() \n",
    "        if correlation > 0.5*(bit_COS**2).sum():                                                 \n",
    "            new_bits += [1]\n",
    "        else:\n",
    "            new_bits += [0]\n",
    "        correlation = 0\n",
    "        \n",
    "    return array(new_bits)"
   ]
  },
  {
   "cell_type": "code",
   "execution_count": 7,
   "metadata": {},
   "outputs": [],
   "source": [
    "message = modulatorASK(sigma,bits)\n",
    "new_bits = deModulatorASK(n,message)\n",
    "bits = array(bits).ravel()"
   ]
  },
  {
   "cell_type": "code",
   "execution_count": 8,
   "metadata": {
    "scrolled": true
   },
   "outputs": [],
   "source": [
    "#drawGrphs(sigma,bits)"
   ]
  },
  {
   "cell_type": "code",
   "execution_count": 9,
   "metadata": {},
   "outputs": [
    {
     "name": "stdout",
     "output_type": "stream",
     "text": [
      "Сигнал-шум: 0.4575749056067514\n",
      "E: 5e-07\n",
      "N0: 4.5e-07\n",
      "Теоретическая вероятность ошибки 22.8 %\n",
      "Практическая вероятность ошибки: 24.0 %\n"
     ]
    }
   ],
   "source": [
    "# Теоретическая и практическая вероятность ошибки\n",
    "E = T/2\n",
    "No = 2*sigma**2 / f\n",
    "SN = E/No\n",
    "ErrTheor = erfc(sqrt(SN/4))/2                      \n",
    "\n",
    "PError = 0\n",
    "for i in range(n):\n",
    "    if bits[i] != new_bits[i]:\n",
    "        PError += 1\n",
    "        \n",
    "PError = PError/n\n",
    "\n",
    "print('Сигнал-шум:',10*log10(SN))\n",
    "print('E:',E)\n",
    "print('N0:',No)\n",
    "print('Теоретическая вероятность ошибки',round(100*ErrTheor,1),'%')\n",
    "print('Практическая вероятность ошибки:',PError*100,'%')"
   ]
  },
  {
   "cell_type": "code",
   "execution_count": 10,
   "metadata": {},
   "outputs": [],
   "source": [
    "# Графическое представление"
   ]
  },
  {
   "cell_type": "code",
   "execution_count": 11,
   "metadata": {},
   "outputs": [],
   "source": [
    "E = T/2              \n",
    "arrSN = arange(-5,15,1)"
   ]
  },
  {
   "cell_type": "code",
   "execution_count": 12,
   "metadata": {},
   "outputs": [],
   "source": [
    "#С помощью дополнительной функции ошибок erfc = 1 - erf нахождение теоретических значений Pошибки\n",
    "arrErrThr = [erfc(sqrt(10**(SN/10))/2)/2 for SN in arrSN]  #   /2 ---> /4"
   ]
  },
  {
   "cell_type": "code",
   "execution_count": 13,
   "metadata": {},
   "outputs": [
    {
     "name": "stdout",
     "output_type": "stream",
     "text": [
      "28.117066259517454\n",
      "25.059361681363615\n",
      "22.33417960754816\n",
      "19.905358527674863\n",
      "17.740669461678774\n",
      "15.811388300841896\n",
      "14.091914656322269\n",
      "12.559432157547901\n",
      "11.193605692841698\n",
      "9.976311574844399\n",
      "8.891397050194614\n",
      "7.924465962305567\n",
      "7.062687723113772\n",
      "6.2946270589708355\n",
      "5.610092271509817\n",
      "5.0\n",
      "4.456254690668727\n",
      "3.971641173621408\n",
      "3.5397289219206893\n",
      "3.1547867224009667\n"
     ]
    }
   ],
   "source": [
    "#Расчет средней практической ошибки\n",
    "quantity_for_medium = 100\n",
    "arrErrPrt = []\n",
    "\n",
    "for SN in arrSN:\n",
    "    Pm = 0\n",
    "    sig=sqrt((T*f)/(4*10**(SN/10)))   #!!!!/ Подгон /2 ---> /4\n",
    "    print(sig)\n",
    "    for i in range(quantity_for_medium):\n",
    "        bits = [choice([1,0]) for i in range(n)]\n",
    "        mes = modulatorASK(sig ,bits)\n",
    "        new_bits = deModulatorASK(n ,mes)\n",
    "        np_bits =  array(bits).ravel()\n",
    "        \n",
    "        for i in range(n):\n",
    "            if np_bits[i] != new_bits[i]:\n",
    "                Pm += 1\n",
    "    \n",
    "    Pm /= (quantity_for_medium*n)\n",
    "    arrErrPrt += [Pm]"
   ]
  },
  {
   "cell_type": "code",
   "execution_count": 14,
   "metadata": {},
   "outputs": [
    {
     "data": {
      "image/png": "[encoded data removed]",
      "text/plain": [
       "<Figure size 360x2160 with 1 Axes>"
      ]
     },
     "metadata": {
      "needs_background": "light"
     },
     "output_type": "display_data"
    }
   ],
   "source": [
    "matplotlib.rcParams['figure.figsize'] = 5, 30\n",
    "gr = plt.subplot(4,1,1)   \n",
    "gr.set_xlabel('Отношение сигнал/шум')\n",
    "gr.set_ylabel('Вероятность ошибки')\n",
    "#Практика\n",
    "plt.plot(arrSN,arrErrPrt,'red')\n",
    "#Теория\n",
    "plt.plot(arrSN,arrErrThr,'blue')\n",
    "#gr.set_xscale('log')\n",
    "gr.set_yscale('log')"
   ]
  },
  {
   "cell_type": "code",
   "execution_count": null,
   "metadata": {},
   "outputs": [],
   "source": []
  }
 ],
 "metadata": {
  "kernelspec": {
   "display_name": "Python 3",
   "language": "python",
   "name": "python3"
  },
  "language_info": {
   "codemirror_mode": {
    "name": "ipython",
    "version": 3
   },
   "file_extension": ".py",
   "mimetype": "text/x-python",
   "name": "python",
   "nbconvert_exporter": "python",
   "pygments_lexer": "ipython3",
   "version": "3.8.5"
  }
 },
 "nbformat": 4,
 "nbformat_minor": 2
}
