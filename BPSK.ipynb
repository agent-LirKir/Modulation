{
 "cells": [
  {
   "cell_type": "code",
   "execution_count": 1,
   "metadata": {},
   "outputs": [],
   "source": [
    "from random import choice\n",
    "from matplotlib.pyplot import rcParams\n",
    "import matplotlib.pyplot as plt\n",
    "from math import(atan2,erfc,erf,log10)\n",
    "from numpy import (sin, cos, array, pi, sqrt,hsplit, argmin,arctan,arange,e, arange)\n",
    "from numpy.random import normal\n",
    "import matplotlib"
   ]
  },
  {
   "cell_type": "code",
   "execution_count": 2,
   "metadata": {},
   "outputs": [
    {
     "name": "stdout",
     "output_type": "stream",
     "text": [
      "[1, 1, -1, -1, -1, 1, 1, 1, 1, -1, -1, 1, -1, 1, -1, -1, 1, -1, -1, 1, 1, -1, -1, 1, 1, -1, -1, -1, -1, -1, -1, -1, -1, -1, -1, 1, -1, -1, -1, 1, 1, -1, -1, -1, -1, 1, 1, 1, 1, 1, 1, 1, 1, -1, 1, -1, 1, 1, -1, 1, -1, -1, 1, -1, 1, -1, -1, -1, -1, -1, 1, -1, -1, -1, -1, -1, 1, 1, 1, -1, 1, 1, 1, -1, -1, 1, -1, -1, 1, 1, -1, -1, 1, 1, 1, -1, -1, 1, 1, 1]\n"
     ]
    }
   ],
   "source": [
    "#МОДУЛЯТОР\n",
    "#ВХОДНЫЕ ДАННЫЕ#\n",
    "\n",
    "#Некоторые константы для передачи сообщения:\n",
    "f = 1e9                 # частота дескретизации \n",
    "F = 1e7                 # частота чипа \n",
    "T = 1e-6                # длительность передачи символа \n",
    "sigma = 8               # мощность шума \n",
    "n = 1000                 # количество бит\n",
    "\n",
    "bits = [choice([1,-1]) for i in range(n)] \n",
    "print(bits)"
   ]
  },
  {
   "cell_type": "code",
   "execution_count": 3,
   "metadata": {},
   "outputs": [
    {
     "name": "stdout",
     "output_type": "stream",
     "text": [
      "Количество отсчетов на чип: 100\n",
      "Количество чипов на бит:  10\n",
      "Количество отсчетов на бит:  1000\n",
      "Общее количество чипов:  1000\n",
      "Общее количество отсчетов на все сообщение:  100000\n"
     ]
    }
   ],
   "source": [
    "#Инициализация\n",
    "quantity_of_counts_on_chip =    round((1/F)/(1/f))\n",
    "quantity_of_chips_on_bit   =    int(T/(1/F))\n",
    "quantity_of_counts_on_bit  =    quantity_of_counts_on_chip*quantity_of_chips_on_bit \n",
    "N = n*quantity_of_chips_on_bit \n",
    "quantity_of_counts_all     =    N*quantity_of_counts_on_chip\n",
    "\n",
    "counts_on_chip = [t*(1/f) for t in range(0,quantity_of_counts_on_chip)]         \n",
    "counts_time = [t*(1/f) for t in range(0,quantity_of_counts_all)]                \n",
    "\n",
    "print('Количество отсчетов на чип:', quantity_of_counts_on_chip)\n",
    "print('Количество чипов на бит: ',   quantity_of_chips_on_bit )\n",
    "print('Количество отсчетов на бит: ',quantity_of_counts_on_bit )\n",
    "print('Общее количество чипов: ', N)\n",
    "print('Общее количество отсчетов на все сообщение: ',quantity_of_counts_all )\n",
    "\n",
    "#BPSK.Опорные антиподные символы\n",
    "sin1 = [ sin(2 * pi * F * t) for t in counts_on_chip]    \n",
    "sin2 = [ sin(2 * pi * F * t + pi) for t in counts_on_chip] "
   ]
  },
  {
   "cell_type": "code",
   "execution_count": 4,
   "metadata": {},
   "outputs": [],
   "source": [
    "def drawGrphs(sigma,bits):\n",
    "\n",
    "    rcParams['figure.figsize'] = 15,15\n",
    "    plt.subplot(5,2,1)\n",
    "    plt.plot(counts_on_chip,sin1,'red') \n",
    "    plt.subplot(5,2,2)\n",
    "    plt.plot(counts_on_chip,sin2,'blue') \n",
    "    \n",
    "    #####################################    \n",
    "    ImpulseCodeModulation = []\n",
    "    for i in range(n):\n",
    "        m = quantity_of_chips_on_bit*quantity_of_counts_on_chip*[1]\n",
    "        m = [m[k]*bits[i] for k in range(quantity_of_chips_on_bit*quantity_of_counts_on_chip)]\n",
    "        ImpulseCodeModulation += m\n",
    "    #####################################        \n",
    "    message = []\n",
    "    for bit in bits:\n",
    "        if bit == 1:\n",
    "            message += [sin1 for j in range(quantity_of_chips_on_bit)] \n",
    "        elif bit == -1:\n",
    "            message += [sin2 for j in range(quantity_of_chips_on_bit)]\n",
    "    message = array(message).ravel()\n",
    "    \n",
    "    noise = normal(0,sigma,quantity_of_counts_all)\n",
    "    message_noise = array(message + noise)\n",
    "        \n",
    "    ####################################\n",
    "    plt.subplot(5,1,3)\n",
    "    a=plt.plot(counts_time,ImpulseCodeModulation) \n",
    "\n",
    "    plt.subplot(5,1,4)\n",
    "    b=plt.plot(counts_time,message,'green') \n",
    "\n",
    "    plt.subplot(5,1,5)\n",
    "    c=plt.plot(counts_time,message_noise,'red')\n",
    "\n",
    "    plt.show()"
   ]
  },
  {
   "cell_type": "code",
   "execution_count": 5,
   "metadata": {},
   "outputs": [],
   "source": [
    "def modulatorBPSK(sigma,bits):\n",
    "    message = []\n",
    "    for bit in bits:\n",
    "        if bit == 1:\n",
    "            message += [sin1 for j in range(quantity_of_chips_on_bit)] \n",
    "        elif bit == -1:\n",
    "            message += [sin2 for j in range(quantity_of_chips_on_bit)]\n",
    "            \n",
    "    #Перевод в numpy массивы\n",
    "    message = array(message).ravel()                                  \n",
    "        \n",
    "    #Шума\n",
    "    noise = normal(0,sigma,quantity_of_counts_all)\n",
    "    message_noise = array(message + noise)\n",
    "        \n",
    "    return message_noise"
   ]
  },
  {
   "cell_type": "code",
   "execution_count": 6,
   "metadata": {},
   "outputs": [],
   "source": [
    "def deModulatorBPSK(n,message_noise):\n",
    "    bit1 = (array([sin1 for j in range(quantity_of_chips_on_bit)]) ).ravel()  \n",
    "\n",
    "    arrived_bits = hsplit(message_noise,n)\n",
    "    correlation = 0\n",
    "    new_bits = []\n",
    "\n",
    "    for i in range(n): \n",
    "        correlation = (bit1*arrived_bits[i]).sum() \n",
    "        if correlation > 0:                                                 \n",
    "            new_bits += [1]\n",
    "        elif correlation < 0:\n",
    "            new_bits += [-1]\n",
    "            \n",
    "        correlation = 0\n",
    "        \n",
    "    return array(new_bits)"
   ]
  },
  {
   "cell_type": "code",
   "execution_count": 7,
   "metadata": {},
   "outputs": [],
   "source": [
    "message = modulatorBPSK(sigma,bits)\n",
    "new_bits = deModulatorBPSK(n,message)\n",
    "bits = array(bits).ravel()"
   ]
  },
  {
   "cell_type": "code",
   "execution_count": 8,
   "metadata": {},
   "outputs": [],
   "source": [
    "#drawGrphs(sigma,bits)"
   ]
  },
  {
   "cell_type": "code",
   "execution_count": 9,
   "metadata": {},
   "outputs": [
    {
     "name": "stdout",
     "output_type": "stream",
     "text": [
      "Сигнал-шум: 0.9691001300805642\n",
      "E: 5e-07\n",
      "N0: 8e-07\n",
      "Теоретическая вероятность ошибки 13.2 %\n",
      "Практическая вероятность ошибки: 19.0 %\n"
     ]
    }
   ],
   "source": [
    "# Теоретическая и практическая вероятность ошибки\n",
    "E = T/2\n",
    "No = 2*sigma**2 / f\n",
    "SN = 2*E/No\n",
    "ErrTheor = erfc(sqrt(SN/2))/2\n",
    "\n",
    "PError1= 100*list((bits*new_bits)).count(-1) / n\n",
    "\n",
    "print('Сигнал-шум:',10*log10(SN))\n",
    "print('E:',E)\n",
    "print('N0:',No)\n",
    "print('Теоретическая вероятность ошибки',round(100*ErrTheor,1),'%')\n",
    "print('Практическая вероятность ошибки:',PError1,'%')"
   ]
  },
  {
   "cell_type": "markdown",
   "metadata": {},
   "source": [
    "\\begin{equation*}\\\\\n",
    "Вероятность\\ ошибки\\ на\\ бит:\n",
    "P_{b}=Q(\\sqrt{\\frac{2E_{b}}{N_{0}}}) \\\\\n",
    "Гауссов\\ интеграл\\ ошибок:\n",
    "Q(x) = \\int_k^{\\infty} \\frac{1}{\\sqrt2\\pi}exp(\\frac{-x^2}{2})dx \n",
    "\\end{equation*}"
   ]
  },
  {
   "cell_type": "code",
   "execution_count": 10,
   "metadata": {},
   "outputs": [],
   "source": [
    "# Графическое представление"
   ]
  },
  {
   "cell_type": "code",
   "execution_count": 11,
   "metadata": {},
   "outputs": [],
   "source": [
    "E = T/2              \n",
    "arrSN = arange(-5,15,1)"
   ]
  },
  {
   "cell_type": "code",
   "execution_count": 12,
   "metadata": {},
   "outputs": [],
   "source": [
    "# С помощью дополнительной функции ошибок erfc = 1 - erf нахождение теоретических значений Pошибки\n",
    "# Теоретическое значение ошибки\n",
    "arrErrThr = [erfc(sqrt(10**(SN/10)/2))/2 for SN in arrSN]"
   ]
  },
  {
   "cell_type": "code",
   "execution_count": 13,
   "metadata": {},
   "outputs": [
    {
     "name": "stdout",
     "output_type": "stream",
     "text": [
      "39.76353643835253\n",
      "35.43928915419707\n",
      "31.58529970547121\n",
      "28.150427993736734\n",
      "25.089095358284318\n",
      "22.360679774997898\n",
      "19.928976826775145\n",
      "17.761719292909024\n",
      "15.830148982673414\n",
      "14.108635131604638\n",
      "12.574334296829354\n",
      "11.206887238456494\n",
      "9.98814876483345\n",
      "8.901946956877223\n",
      "7.933868576533667\n",
      "7.0710678118654755\n",
      "6.302095820932435\n",
      "5.616748812614791\n",
      "5.005932648504533\n",
      "4.461542169214011\n"
     ]
    }
   ],
   "source": [
    "#Расчет средней практической ошибки\n",
    "quantity_for_medium = 100\n",
    "arrErrPrt = []\n",
    "\n",
    "for SN in arrSN:\n",
    "    Pm = 0\n",
    "    sig=sqrt((T*f)/(2*10**(SN/10)))   #!!!!\n",
    "    print(sig)\n",
    "    for i in range(quantity_for_medium):\n",
    "        bits = [choice([1,-1]) for i in range(n)]\n",
    "        mes = modulatorBPSK(sig ,bits)\n",
    "        new_bits = deModulatorBPSK(n ,mes)\n",
    "        np_bits =  array(bits).ravel()\n",
    "        \n",
    "        Pm += list((np_bits*new_bits)).count(-1)\n",
    "        \n",
    "    Pm /= (quantity_for_medium*n)\n",
    "    arrErrPrt += [Pm]"
   ]
  },
  {
   "cell_type": "code",
   "execution_count": 14,
   "metadata": {},
   "outputs": [
    {
     "data": {
      "image/png": "[encoded data removed]",
      "text/plain": [
       "<Figure size 360x2160 with 1 Axes>"
      ]
     },
     "metadata": {
      "needs_background": "light"
     },
     "output_type": "display_data"
    }
   ],
   "source": [
    "matplotlib.rcParams['figure.figsize'] = 5, 30\n",
    "gr = plt.subplot(4,1,1)   \n",
    "gr.set_xlabel('Отношение сигнал/шум')\n",
    "gr.set_ylabel('Вероятность ошибки')\n",
    "#Практика\n",
    "plt.plot(arrSN,arrErrPrt,'red')\n",
    "#Теория\n",
    "plt.plot(arrSN,arrErrThr,'blue')\n",
    "#gr.set_xscale('log')\n",
    "gr.set_yscale('log')"
   ]
  },
  {
   "cell_type": "code",
   "execution_count": null,
   "metadata": {},
   "outputs": [],
   "source": []
  },
  {
   "cell_type": "code",
   "execution_count": null,
   "metadata": {},
   "outputs": [],
   "source": []
  },
  {
   "cell_type": "code",
   "execution_count": null,
   "metadata": {},
   "outputs": [],
   "source": []
  }
 ],
 "metadata": {
  "kernelspec": {
   "display_name": "Python 3",
   "language": "python",
   "name": "python3"
  },
  "language_info": {
   "codemirror_mode": {
    "name": "ipython",
    "version": 3
   },
   "file_extension": ".py",
   "mimetype": "text/x-python",
   "name": "python",
   "nbconvert_exporter": "python",
   "pygments_lexer": "ipython3",
   "version": "3.8.5"
  }
 },
 "nbformat": 4,
 "nbformat_minor": 2
}
